{
  "nbformat": 4,
  "nbformat_minor": 0,
  "metadata": {
    "colab": {
      "provenance": [],
      "authorship_tag": "ABX9TyOYrH+ZpZnkB4LbAD01LvdG",
      "include_colab_link": true
    },
    "kernelspec": {
      "name": "python3",
      "display_name": "Python 3"
    },
    "language_info": {
      "name": "python"
    },
    "gpuClass": "standard"
  },
  "cells": [
    {
      "cell_type": "markdown",
      "metadata": {
        "id": "view-in-github",
        "colab_type": "text"
      },
      "source": [
        "<a href=\"https://colab.research.google.com/github/erenonaran/deeplearning/blob/main/Tensors.ipynb\" target=\"_parent\"><img src=\"https://colab.research.google.com/assets/colab-badge.svg\" alt=\"Open In Colab\"/></a>"
      ]
    },
    {
      "cell_type": "markdown",
      "source": [
        "###PyTorch Fundamentals\n"
      ],
      "metadata": {
        "id": "BXL_goLI2-qQ"
      }
    },
    {
      "cell_type": "code",
      "source": [
        "import torch\n",
        "import pandas as pd \n",
        "import numpy as np\n",
        "import matplotlib.pyplot as plt"
      ],
      "metadata": {
        "id": "6rziWQPs0sde"
      },
      "execution_count": null,
      "outputs": []
    },
    {
      "cell_type": "markdown",
      "source": [
        "### Tensors\n",
        "\n",
        "Tensors are mainly used data structures in deep learning. Any input data, before going through neural network, gets converted into tensors. The meaning of tensor changes according to the context. In deep learning, it is an object that can represent multi-dimensional data."
      ],
      "metadata": {
        "id": "O8zwrEKuVj0j"
      }
    },
    {
      "cell_type": "markdown",
      "source": [
        "Random tensors are used when initializing weights and biases of each neuron in neural network.\n",
        "\n"
      ],
      "metadata": {
        "id": "aY-pFzaI5Fq-"
      }
    },
    {
      "cell_type": "code",
      "source": [
        "random_tensor = torch.randint(high=10,size=(3,3))\n",
        "random_tensor1 = random_tensor.reshape(1,3,3)\n",
        "random_tensor2 = torch.randint(high=10,size=(2,3,3))\n",
        "print(random_tensor)\n",
        "print(random_tensor1)\n",
        "print(random_tensor2)"
      ],
      "metadata": {
        "colab": {
          "base_uri": "https://localhost:8080/"
        },
        "id": "s2lwIktTQk_a",
        "outputId": "add008ca-a0fc-445f-8679-241206dcd277"
      },
      "execution_count": null,
      "outputs": [
        {
          "output_type": "stream",
          "name": "stdout",
          "text": [
            "tensor([[0, 0, 3],\n",
            "        [5, 3, 3],\n",
            "        [9, 2, 4]])\n",
            "tensor([[[0, 0, 3],\n",
            "         [5, 3, 3],\n",
            "         [9, 2, 4]]])\n",
            "tensor([[[2, 4, 4],\n",
            "         [7, 6, 5],\n",
            "         [3, 5, 1]],\n",
            "\n",
            "        [[1, 9, 4],\n",
            "         [4, 1, 9],\n",
            "         [3, 6, 3]]])\n"
          ]
        }
      ]
    },
    {
      "cell_type": "code",
      "source": [
        "print(random_tensor1)\n",
        "print(random_tensor1.shape)\n",
        "print(random_tensor1.T.shape)\n",
        "print(random_tensor1.T)"
      ],
      "metadata": {
        "colab": {
          "base_uri": "https://localhost:8080/"
        },
        "id": "wOESPm8yiST0",
        "outputId": "38520200-d04d-4cec-dbf7-7796a9ffb1f3"
      },
      "execution_count": null,
      "outputs": [
        {
          "output_type": "stream",
          "name": "stdout",
          "text": [
            "tensor([[[0, 0, 3],\n",
            "         [5, 3, 3],\n",
            "         [9, 2, 4]]])\n",
            "torch.Size([1, 3, 3])\n",
            "torch.Size([3, 3, 1])\n",
            "tensor([[[0],\n",
            "         [5],\n",
            "         [9]],\n",
            "\n",
            "        [[0],\n",
            "         [3],\n",
            "         [2]],\n",
            "\n",
            "        [[3],\n",
            "         [3],\n",
            "         [4]]])\n"
          ]
        },
        {
          "output_type": "stream",
          "name": "stderr",
          "text": [
            "<ipython-input-3-d7ea7b3a54f2>:3: UserWarning: The use of `x.T` on tensors of dimension other than 2 to reverse their shape is deprecated and it will throw an error in a future release. Consider `x.mT` to transpose batches of matrices or `x.permute(*torch.arange(x.ndim - 1, -1, -1))` to reverse the dimensions of a tensor. (Triggered internally at ../aten/src/ATen/native/TensorShape.cpp:3277.)\n",
            "  print(random_tensor1.T.shape)\n"
          ]
        }
      ]
    },
    {
      "cell_type": "code",
      "source": [
        "print(random_tensor1)\n",
        "print(random_tensor1.transpose(0,2)) \n",
        "print(random_tensor1.T)"
      ],
      "metadata": {
        "colab": {
          "base_uri": "https://localhost:8080/"
        },
        "id": "gUR1OdMEiXgU",
        "outputId": "b451d527-86cb-4edc-8dd6-4139fbd2b790"
      },
      "execution_count": null,
      "outputs": [
        {
          "output_type": "stream",
          "name": "stdout",
          "text": [
            "tensor([[[0, 0, 3],\n",
            "         [5, 3, 3],\n",
            "         [9, 2, 4]]])\n",
            "tensor([[[0],\n",
            "         [5],\n",
            "         [9]],\n",
            "\n",
            "        [[0],\n",
            "         [3],\n",
            "         [2]],\n",
            "\n",
            "        [[3],\n",
            "         [3],\n",
            "         [4]]])\n",
            "tensor([[[0],\n",
            "         [5],\n",
            "         [9]],\n",
            "\n",
            "        [[0],\n",
            "         [3],\n",
            "         [2]],\n",
            "\n",
            "        [[3],\n",
            "         [3],\n",
            "         [4]]])\n"
          ]
        }
      ]
    },
    {
      "cell_type": "code",
      "source": [
        "print(random_tensor.shape)\n",
        "print(random_tensor.reshape(1,3,3).shape)\n",
        "print(random_tensor.shape)"
      ],
      "metadata": {
        "colab": {
          "base_uri": "https://localhost:8080/"
        },
        "id": "DsjML5gPMISV",
        "outputId": "ca482d94-cbc1-4dd7-f0d0-d2d4f3f7699a"
      },
      "execution_count": null,
      "outputs": [
        {
          "output_type": "stream",
          "name": "stdout",
          "text": [
            "torch.Size([3, 3])\n",
            "torch.Size([1, 3, 3])\n",
            "torch.Size([3, 3])\n"
          ]
        }
      ]
    },
    {
      "cell_type": "markdown",
      "source": [
        "Reshaping/\n",
        "Viewing/\n",
        "Stacking/\n",
        "Squeezing/\n",
        "Unsqueezing/\n",
        "Permuting"
      ],
      "metadata": {
        "id": "LPbvq64FmFYf"
      }
    },
    {
      "cell_type": "code",
      "source": [
        "rand_tensor = torch.rand(size=(4,4))\n",
        "print(rand_tensor)\n",
        "rand_tensor_T = rand_tensor.permute(1,0)\n",
        "print(rand_tensor_T)\n",
        "print(rand_tensor_T.is_contiguous())\n",
        "reshaped_T = rand_tensor_T.reshape(2,8)\n",
        "print(reshaped_T)\n",
        "print(reshaped_T.storage().data_ptr() == rand_tensor_T.storage().data_ptr())"
      ],
      "metadata": {
        "colab": {
          "base_uri": "https://localhost:8080/"
        },
        "id": "dYDN_Vqt-6Vf",
        "outputId": "3eb751c9-56b9-4477-d5ad-2a8d1995d44b"
      },
      "execution_count": null,
      "outputs": [
        {
          "output_type": "stream",
          "name": "stdout",
          "text": [
            "tensor([[0.2640, 0.9873, 0.7789, 0.3847],\n",
            "        [0.0818, 0.2660, 0.2588, 0.8750],\n",
            "        [0.9074, 0.9556, 0.2796, 0.5298],\n",
            "        [0.6623, 0.0522, 0.6977, 0.8139]])\n",
            "tensor([[0.2640, 0.0818, 0.9074, 0.6623],\n",
            "        [0.9873, 0.2660, 0.9556, 0.0522],\n",
            "        [0.7789, 0.2588, 0.2796, 0.6977],\n",
            "        [0.3847, 0.8750, 0.5298, 0.8139]])\n",
            "False\n",
            "tensor([[0.2640, 0.0818, 0.9074, 0.6623, 0.9873, 0.2660, 0.9556, 0.0522],\n",
            "        [0.7789, 0.2588, 0.2796, 0.6977, 0.3847, 0.8750, 0.5298, 0.8139]])\n",
            "False\n"
          ]
        }
      ]
    },
    {
      "cell_type": "code",
      "source": [
        "#Indexing\n",
        "tensor1 = torch.rand(size=(2,4,3))\n",
        "print(tensor1)\n",
        "print(tensor1[0,0,1:2])\n",
        "print(tensor1[0,0,1])"
      ],
      "metadata": {
        "colab": {
          "base_uri": "https://localhost:8080/"
        },
        "id": "0gi-LBYw_JPX",
        "outputId": "313bca14-5666-470a-b633-613a77727953"
      },
      "execution_count": null,
      "outputs": [
        {
          "output_type": "stream",
          "name": "stdout",
          "text": [
            "tensor([[[0.6746, 0.1854, 0.8690],\n",
            "         [0.1117, 0.0139, 0.5740],\n",
            "         [0.0179, 0.7831, 0.2535],\n",
            "         [0.2159, 0.0185, 0.4678]],\n",
            "\n",
            "        [[0.1069, 0.0859, 0.6043],\n",
            "         [0.5933, 0.5136, 0.4939],\n",
            "         [0.7223, 0.5720, 0.7961],\n",
            "         [0.8130, 0.0772, 0.4977]]])\n",
            "tensor([0.1854])\n",
            "tensor(0.1854)\n"
          ]
        }
      ]
    },
    {
      "cell_type": "code",
      "source": [
        "tensor = torch.rand(size=(2,4,3))\n",
        "indexed_tensor = tensor[:,:,1]\n",
        "print(tensor)\n",
        "print(indexed_tensor)\n",
        "#print(indexed_tensor.storage())\n",
        "print(tensor.storage().data_ptr())\n",
        "print(indexed_tensor.storage().data_ptr())\n",
        "print(indexed_tensor.stride())\n"
      ],
      "metadata": {
        "colab": {
          "base_uri": "https://localhost:8080/"
        },
        "id": "OGOPMdPXoRne",
        "outputId": "1cc5398a-0aa0-4eeb-b532-6a1d6654e3aa"
      },
      "execution_count": null,
      "outputs": [
        {
          "output_type": "stream",
          "name": "stdout",
          "text": [
            "tensor([[[0.3997, 0.2946, 0.8405],\n",
            "         [0.6190, 0.6645, 0.1621],\n",
            "         [0.1948, 0.1777, 0.9185],\n",
            "         [0.3412, 0.3112, 0.4292]],\n",
            "\n",
            "        [[0.9878, 0.3235, 0.5470],\n",
            "         [0.5169, 0.5240, 0.8919],\n",
            "         [0.4841, 0.9559, 0.1615],\n",
            "         [0.3677, 0.0017, 0.5526]]])\n",
            "tensor([[0.2946, 0.6645, 0.1777, 0.3112],\n",
            "        [0.3235, 0.5240, 0.9559, 0.0017]])\n",
            "120945792\n",
            "120945792\n",
            "(12, 3)\n"
          ]
        }
      ]
    },
    {
      "cell_type": "code",
      "source": [
        "import torch\n",
        "import numpy as pd \n",
        "\n",
        "#Default datatype of numpy array is float64, while it is float32 for torch tensor\n",
        "#Conversions between them keep the dtype same\n",
        "\n",
        "array = np.arange(start=5.0,stop=11.0)\n",
        "tensor = torch.from_numpy(array)\n",
        "print(array)\n",
        "print(tensor)\n",
        "array[1] = 15.0\n",
        "print(array)\n",
        "print(tensor)\n"
      ],
      "metadata": {
        "colab": {
          "base_uri": "https://localhost:8080/"
        },
        "id": "XXnPkEm5QyJi",
        "outputId": "576304b9-97e9-4356-9fbb-93868b27621a"
      },
      "execution_count": null,
      "outputs": [
        {
          "output_type": "stream",
          "name": "stdout",
          "text": [
            "[ 5.  6.  7.  8.  9. 10.]\n",
            "tensor([ 5.,  6.,  7.,  8.,  9., 10.], dtype=torch.float64)\n",
            "[ 5. 15.  7.  8.  9. 10.]\n",
            "tensor([ 5., 15.,  7.,  8.,  9., 10.], dtype=torch.float64)\n"
          ]
        }
      ]
    },
    {
      "cell_type": "code",
      "source": [
        "cpu_tensor = torch.tensor([[3,4,5,6],\n",
        "                           [3,15,2,8]])\n",
        "gpu_tensor = torch.tensor([[1,2],\n",
        "                           [3,4]], device=\"cuda\")\n",
        "print(cpu_tensor.device)\n",
        "print(gpu_tensor.device)"
      ],
      "metadata": {
        "colab": {
          "base_uri": "https://localhost:8080/",
          "height": 351
        },
        "id": "48d90fMZgEEP",
        "outputId": "a8534164-bca9-4d21-a81d-6478f9aaeeb5"
      },
      "execution_count": null,
      "outputs": [
        {
          "output_type": "error",
          "ename": "RuntimeError",
          "evalue": "ignored",
          "traceback": [
            "\u001b[0;31m---------------------------------------------------------------------------\u001b[0m",
            "\u001b[0;31mRuntimeError\u001b[0m                              Traceback (most recent call last)",
            "\u001b[0;32m<ipython-input-11-ec5d99f9d249>\u001b[0m in \u001b[0;36m<module>\u001b[0;34m\u001b[0m\n\u001b[1;32m      1\u001b[0m cpu_tensor = torch.tensor([[3,4,5,6],\n\u001b[1;32m      2\u001b[0m                            [3,15,2,8]])\n\u001b[0;32m----> 3\u001b[0;31m gpu_tensor = torch.tensor([[1,2],\n\u001b[0m\u001b[1;32m      4\u001b[0m                            [3,4]], device=\"cuda\")\n\u001b[1;32m      5\u001b[0m \u001b[0mprint\u001b[0m\u001b[0;34m(\u001b[0m\u001b[0mcpu_tensor\u001b[0m\u001b[0;34m.\u001b[0m\u001b[0mdevice\u001b[0m\u001b[0;34m)\u001b[0m\u001b[0;34m\u001b[0m\u001b[0;34m\u001b[0m\u001b[0m\n",
            "\u001b[0;32m/usr/local/lib/python3.8/dist-packages/torch/cuda/__init__.py\u001b[0m in \u001b[0;36m_lazy_init\u001b[0;34m()\u001b[0m\n\u001b[1;32m    227\u001b[0m         \u001b[0;32mif\u001b[0m \u001b[0;34m'CUDA_MODULE_LOADING'\u001b[0m \u001b[0;32mnot\u001b[0m \u001b[0;32min\u001b[0m \u001b[0mos\u001b[0m\u001b[0;34m.\u001b[0m\u001b[0menviron\u001b[0m\u001b[0;34m:\u001b[0m\u001b[0;34m\u001b[0m\u001b[0;34m\u001b[0m\u001b[0m\n\u001b[1;32m    228\u001b[0m             \u001b[0mos\u001b[0m\u001b[0;34m.\u001b[0m\u001b[0menviron\u001b[0m\u001b[0;34m[\u001b[0m\u001b[0;34m'CUDA_MODULE_LOADING'\u001b[0m\u001b[0;34m]\u001b[0m \u001b[0;34m=\u001b[0m \u001b[0;34m'LAZY'\u001b[0m\u001b[0;34m\u001b[0m\u001b[0;34m\u001b[0m\u001b[0m\n\u001b[0;32m--> 229\u001b[0;31m         \u001b[0mtorch\u001b[0m\u001b[0;34m.\u001b[0m\u001b[0m_C\u001b[0m\u001b[0;34m.\u001b[0m\u001b[0m_cuda_init\u001b[0m\u001b[0;34m(\u001b[0m\u001b[0;34m)\u001b[0m\u001b[0;34m\u001b[0m\u001b[0;34m\u001b[0m\u001b[0m\n\u001b[0m\u001b[1;32m    230\u001b[0m         \u001b[0;31m# Some of the queued calls may reentrantly call _lazy_init();\u001b[0m\u001b[0;34m\u001b[0m\u001b[0;34m\u001b[0m\u001b[0;34m\u001b[0m\u001b[0m\n\u001b[1;32m    231\u001b[0m         \u001b[0;31m# we need to just return without initializing in that case.\u001b[0m\u001b[0;34m\u001b[0m\u001b[0;34m\u001b[0m\u001b[0;34m\u001b[0m\u001b[0m\n",
            "\u001b[0;31mRuntimeError\u001b[0m: No CUDA GPUs are available"
          ]
        }
      ]
    },
    {
      "cell_type": "code",
      "source": [
        "device = \"cuda\" if torch.cuda.is_available() else \"cpu\"\n",
        "device"
      ],
      "metadata": {
        "colab": {
          "base_uri": "https://localhost:8080/",
          "height": 37
        },
        "id": "JZxXXx0pgJvP",
        "outputId": "6b5b9cd9-e537-43de-db18-31437d90a5c7"
      },
      "execution_count": null,
      "outputs": [
        {
          "output_type": "execute_result",
          "data": {
            "text/plain": [
              "'cpu'"
            ],
            "application/vnd.google.colaboratory.intrinsic+json": {
              "type": "string"
            }
          },
          "metadata": {},
          "execution_count": 12
        }
      ]
    },
    {
      "cell_type": "code",
      "source": [
        "#Numpy can work only on CPU\n",
        "\n",
        "np_array = np.random.rand(3,3)\n",
        "print(f\"np_array:\\n{np_array}\\n\")\n",
        "tensor_cpu = torch.from_numpy(np_array)\n",
        "print(f\"tensor_cpu:\\n{tensor_cpu}\\n\")\n",
        "tensor_gpu = tensor_cpu.to(device) #tensor_cpu.cuda() is not used in case GPU is not available\n",
        "print(f\"tensor_gpu:\\n{tensor_gpu}\\n\")\n",
        "reshaped_tensor_gpu = tensor_gpu.reshape(1,9)\n",
        "print(f\"reshaped_tensor_gpu:\\n{reshaped_tensor_gpu}\\n\")\n",
        "reshaped_tensor_cpu = reshaped_tensor_gpu.cpu()\n",
        "print(f\"reshaped_tensor_cpu:\\n{reshaped_tensor_cpu}\\n\")\n",
        "reshaped_array = reshaped_tensor_cpu.numpy()\n",
        "print(f\"reshaped_array:\\n{reshaped_array}\\n\")"
      ],
      "metadata": {
        "colab": {
          "base_uri": "https://localhost:8080/"
        },
        "id": "tD5g2d_1VrJa",
        "outputId": "ad8a33f4-d8c7-4ab6-a449-683774a44cb5"
      },
      "execution_count": null,
      "outputs": [
        {
          "output_type": "stream",
          "name": "stdout",
          "text": [
            "np_array:\n",
            "[[0.92914663 0.26566078 0.84303428]\n",
            " [0.47468905 0.25875977 0.06699155]\n",
            " [0.60287792 0.8299942  0.5393735 ]]\n",
            "\n",
            "tensor_cpu:\n",
            "tensor([[0.9291, 0.2657, 0.8430],\n",
            "        [0.4747, 0.2588, 0.0670],\n",
            "        [0.6029, 0.8300, 0.5394]], dtype=torch.float64)\n",
            "\n",
            "tensor_gpu:\n",
            "tensor([[0.9291, 0.2657, 0.8430],\n",
            "        [0.4747, 0.2588, 0.0670],\n",
            "        [0.6029, 0.8300, 0.5394]], dtype=torch.float64)\n",
            "\n",
            "reshaped_tensor_gpu:\n",
            "tensor([[0.9291, 0.2657, 0.8430, 0.4747, 0.2588, 0.0670, 0.6029, 0.8300, 0.5394]],\n",
            "       dtype=torch.float64)\n",
            "\n",
            "reshaped_tensor_cpu:\n",
            "tensor([[0.9291, 0.2657, 0.8430, 0.4747, 0.2588, 0.0670, 0.6029, 0.8300, 0.5394]],\n",
            "       dtype=torch.float64)\n",
            "\n",
            "reshaped_array:\n",
            "[[0.92914663 0.26566078 0.84303428 0.47468905 0.25875977 0.06699155\n",
            "  0.60287792 0.8299942  0.5393735 ]]\n",
            "\n"
          ]
        }
      ]
    },
    {
      "cell_type": "code",
      "source": [],
      "metadata": {
        "id": "WCLMe5XuXlhE"
      },
      "execution_count": null,
      "outputs": []
    }
  ]
}