{
  "nbformat": 4,
  "nbformat_minor": 0,
  "metadata": {
    "colab": {
      "provenance": [],
      "authorship_tag": "ABX9TyOhCU2Mwcy5UIijNne0c4dl",
      "include_colab_link": true
    },
    "kernelspec": {
      "name": "python3",
      "display_name": "Python 3"
    },
    "language_info": {
      "name": "python"
    },
    "gpuClass": "standard"
  },
  "cells": [
    {
      "cell_type": "markdown",
      "metadata": {
        "id": "view-in-github",
        "colab_type": "text"
      },
      "source": [
        "<a href=\"https://colab.research.google.com/github/erenonaran/deeplearning/blob/main/Pytorch_workflow.ipynb\" target=\"_parent\"><img src=\"https://colab.research.google.com/assets/colab-badge.svg\" alt=\"Open In Colab\"/></a>"
      ]
    },
    {
      "cell_type": "code",
      "source": [
        "import torch\n",
        "from torch import nn \n",
        "import matplotlib.pyplot as plt\n",
        "\n",
        "\n",
        "device = \"cuda\" if torch.cuda.is_available() else \"cpu\""
      ],
      "metadata": {
        "id": "Kfp0SOd45ARa"
      },
      "execution_count": null,
      "outputs": []
    },
    {
      "cell_type": "code",
      "source": [
        "#Data Preparing\n",
        "rand1 = torch.rand(size=(100,1))\n",
        "rand2 = torch.rand(size=(100,1))\n",
        "x = 5*rand1\n",
        "y = 4.0 + 3*x + 1.5*rand2\n",
        "\n",
        "#Data splitting \n",
        "test_split = int(0.2 * x.shape[0])\n",
        "x_test = x[:test_split]\n",
        "y_test = y[:test_split]\n",
        "x_train = x[test_split:]\n",
        "y_train = y[test_split:]\n",
        "\n",
        "#Plot the data\n",
        "def plot_data(x_train=x_train, \n",
        "              x_test=x_test, \n",
        "              y_train=y_train,\n",
        "              y_test=y_test,\n",
        "              preds=None):\n",
        "  \n",
        "  plt.figure(figsize=(10, 7))\n",
        "  \n",
        "  plt.scatter(x_train,y_train,c=\"#404BFA\",s=5,label=\"Training data\")\n",
        "  plt.scatter(x_test,y_test,c=\"#57D359\",s=5,label=\"Test data\")\n",
        "  if preds != None:\n",
        "    plt.scatter(x_test,preds,c=\"#EF1C1C\",s=5,label=\"Predictions\")\n",
        "  plt.legend(prop={\"size\": 14})\n",
        "\n",
        "plot_data()"
      ],
      "metadata": {
        "colab": {
          "base_uri": "https://localhost:8080/",
          "height": 428
        },
        "id": "YBKVBnb95Xug",
        "outputId": "bc2c7f99-1ca6-495e-f9fc-b14b845516a8"
      },
      "execution_count": null,
      "outputs": [
        {
          "output_type": "display_data",
          "data": {
            "text/plain": [
              "<Figure size 720x504 with 1 Axes>"
            ],
            "image/png": "[encoded data removed]"
          },
          "metadata": {
            "needs_background": "light"
          }
        }
      ]
    },
    {
      "cell_type": "code",
      "source": [
        "#Building Model\n",
        "class LinearModel(nn.Module):\n",
        "\n",
        "  def __init__(self):\n",
        "    super().__init__()\n",
        "    self.linear = nn.Linear(in_features=1, out_features=1)\n",
        "\n",
        "  def forward(self, x: torch.Tensor) -> torch.Tensor:\n",
        "    return self.linear(x)\n",
        "\n",
        "#Setting the seed manually\n",
        "torch.manual_seed(42)\n",
        "model_0 = LinearModel()\n",
        "print(model_0.state_dict())\n",
        "print(next(model_0.parameters()).device)"
      ],
      "metadata": {
        "colab": {
          "base_uri": "https://localhost:8080/"
        },
        "id": "4LmNMPGT54Gn",
        "outputId": "3d2f8290-c5e3-47f1-b626-71606c6aa77d"
      },
      "execution_count": null,
      "outputs": [
        {
          "output_type": "stream",
          "name": "stdout",
          "text": [
            "OrderedDict([('linear.weight', tensor([[0.7645]])), ('linear.bias', tensor([0.8300]))])\n",
            "cpu\n"
          ]
        }
      ]
    },
    {
      "cell_type": "code",
      "source": [
        "model_0.to(device)\n",
        "print(model_0.state_dict())\n",
        "print(next(model_0.parameters()).device)"
      ],
      "metadata": {
        "colab": {
          "base_uri": "https://localhost:8080/"
        },
        "id": "LVVUXCeRVSA9",
        "outputId": "b84e6082-b9f6-4e41-b94f-2211798e32a1"
      },
      "execution_count": null,
      "outputs": [
        {
          "output_type": "stream",
          "name": "stdout",
          "text": [
            "OrderedDict([('linear.weight', tensor([[0.7645]], device='cuda:0')), ('linear.bias', tensor([0.8300], device='cuda:0'))])\n",
            "cuda:0\n"
          ]
        }
      ]
    },
    {
      "cell_type": "code",
      "source": [
        "#Setting up loss function\n",
        "loss_func = nn.L1Loss()\n",
        "\n",
        "#Setting up optimizer\n",
        "optimizer = torch.optim.SGD(params=model_0.parameters(), lr=0.01)\n",
        "\n",
        "#Putting data into target device \n",
        "x_train = x_train.to(device)\n",
        "y_train = y_train.to(device)\n",
        "x_test = x_test.to(device)\n",
        "y_test = y_test.to(device)\n",
        "\n",
        "#Training loop\n",
        "torch.manual_seed(42)\n",
        "\n",
        "epochs = 200\n",
        "\n",
        "for epochs in range(epochs):\n",
        "  model_0.train()\n",
        "  preds = model_0(x_train)\n",
        "  loss = loss_func(preds,y_train)\n",
        "  optimizer.zero_grad()\n",
        "  loss.backward()\n",
        "  optimizer.step()\n",
        "\n",
        "  #Testing loop \n",
        "  model_0.eval()\n",
        "  with torch.inference_mode():\n",
        "    test_pred = model_0(x_test)\n",
        "    test_loss = loss_func(test_pred,y_test)\n",
        "\n",
        "  if epochs % 20 == 0:\n",
        "    print(f\"Epoch: {epochs}, State Dictionary: {model_0.state_dict()}, Loss: {loss}, Test loss: {test_loss}\")\n",
        "\n",
        "\n",
        "  "
      ],
      "metadata": {
        "colab": {
          "base_uri": "https://localhost:8080/"
        },
        "id": "FofwR51ee0jJ",
        "outputId": "6d6199b2-07d7-47ea-b997-6e69a81e2212"
      },
      "execution_count": null,
      "outputs": [
        {
          "output_type": "stream",
          "name": "stdout",
          "text": [
            "Epoch: 0, State Dictionary: OrderedDict([('linear.weight', tensor([[3.0440]], device='cuda:0')), ('linear.bias', tensor([4.4515], device='cuda:0'))]), Loss: 0.38211867213249207, Test loss: 0.3561145067214966\n",
            "Epoch: 20, State Dictionary: OrderedDict([('linear.weight', tensor([[3.0405]], device='cuda:0')), ('linear.bias', tensor([4.4610], device='cuda:0'))]), Loss: 0.3816133141517639, Test loss: 0.3579537570476532\n",
            "Epoch: 40, State Dictionary: OrderedDict([('linear.weight', tensor([[3.0379]], device='cuda:0')), ('linear.bias', tensor([4.4708], device='cuda:0'))]), Loss: 0.38110288977622986, Test loss: 0.35907524824142456\n",
            "Epoch: 60, State Dictionary: OrderedDict([('linear.weight', tensor([[3.0353]], device='cuda:0')), ('linear.bias', tensor([4.4805], device='cuda:0'))]), Loss: 0.3805925250053406, Test loss: 0.36019665002822876\n",
            "Epoch: 80, State Dictionary: OrderedDict([('linear.weight', tensor([[3.0327]], device='cuda:0')), ('linear.bias', tensor([4.4903], device='cuda:0'))]), Loss: 0.3800821304321289, Test loss: 0.3613179922103882\n",
            "Epoch: 100, State Dictionary: OrderedDict([('linear.weight', tensor([[3.0292]], device='cuda:0')), ('linear.bias', tensor([4.4998], device='cuda:0'))]), Loss: 0.3795766532421112, Test loss: 0.36315709352493286\n",
            "Epoch: 120, State Dictionary: OrderedDict([('linear.weight', tensor([[3.0266]], device='cuda:0')), ('linear.bias', tensor([4.5095], device='cuda:0'))]), Loss: 0.3790663182735443, Test loss: 0.3642784059047699\n",
            "Epoch: 140, State Dictionary: OrderedDict([('linear.weight', tensor([[3.0240]], device='cuda:0')), ('linear.bias', tensor([4.5193], device='cuda:0'))]), Loss: 0.37855592370033264, Test loss: 0.3653998076915741\n",
            "Epoch: 160, State Dictionary: OrderedDict([('linear.weight', tensor([[3.0208]], device='cuda:0')), ('linear.bias', tensor([4.5248], device='cuda:0'))]), Loss: 0.37833359837532043, Test loss: 0.3674449324607849\n",
            "Epoch: 180, State Dictionary: OrderedDict([('linear.weight', tensor([[3.0174]], device='cuda:0')), ('linear.bias', tensor([4.5298], device='cuda:0'))]), Loss: 0.37815117835998535, Test loss: 0.3696722388267517\n"
          ]
        }
      ]
    },
    {
      "cell_type": "code",
      "source": [
        "test_pred = test_pred.cpu()\n",
        "plot_data(preds=test_pred)"
      ],
      "metadata": {
        "colab": {
          "base_uri": "https://localhost:8080/",
          "height": 428
        },
        "id": "IcvsLmWYhrWI",
        "outputId": "d8429ac6-c8b6-4ef0-9f94-e3b3325c11e7"
      },
      "execution_count": null,
      "outputs": [
        {
          "output_type": "display_data",
          "data": {
            "text/plain": [
              "<Figure size 720x504 with 1 Axes>"
            ],
            "image/png": "[encoded data removed]"
          },
          "metadata": {
            "needs_background": "light"
          }
        }
      ]
    },
    {
      "cell_type": "code",
      "source": [
        "#Saving state dictionary of trained model\n",
        "\n",
        "from pathlib import Path\n",
        "\n",
        "MODEL_PATH = Path(\"models\")\n",
        "MODEL_PATH.mkdir(parents=True,exist_ok=True)\n",
        "\n",
        "MODEL_NAME = \"01_pytorch_workflow_model.pth\"\n",
        "MODEL_SAVE_PATH = MODEL_PATH / MODEL_NAME\n",
        "\n",
        "print(f\"Saving model to {MODEL_SAVE_PATH}\")\n",
        "torch.save(obj=model_0.state_dict(),f=MODEL_SAVE_PATH)\n"
      ],
      "metadata": {
        "colab": {
          "base_uri": "https://localhost:8080/"
        },
        "id": "l9QkOlWzxBs_",
        "outputId": "387781c8-7ad5-45ca-ab58-8821568e8af5"
      },
      "execution_count": null,
      "outputs": [
        {
          "output_type": "stream",
          "name": "stdout",
          "text": [
            "Saving model to models/01_pytorch_workflow_model.pth\n"
          ]
        }
      ]
    },
    {
      "cell_type": "code",
      "source": [
        "#Loading state dictionary \n",
        "\n",
        "pre_trained_model = LinearModel()\n",
        "pre_trained_model.load_state_dict(torch.load(MODEL_SAVE_PATH))\n",
        "pre_trained_model.to(device)\n",
        "\n",
        "print(next(pre_trained_model.parameters()).device)\n",
        "print(model_0.state_dict())\n",
        "print(pre_trained_model.state_dict())"
      ],
      "metadata": {
        "colab": {
          "base_uri": "https://localhost:8080/"
        },
        "id": "4V3pyJ96R2h4",
        "outputId": "4797dcac-15dd-4419-dac0-66f55e9466f5"
      },
      "execution_count": null,
      "outputs": [
        {
          "output_type": "stream",
          "name": "stdout",
          "text": [
            "cuda:0\n",
            "OrderedDict([('linear.weight', tensor([[3.0142]], device='cuda:0')), ('linear.bias', tensor([4.5345], device='cuda:0'))])\n",
            "OrderedDict([('linear.weight', tensor([[3.0142]], device='cuda:0')), ('linear.bias', tensor([4.5345], device='cuda:0'))])\n"
          ]
        }
      ]
    },
    {
      "cell_type": "code",
      "source": [
        "pre_trained_model.eval()\n",
        "with torch.inference_mode():\n",
        "  new_preds = pre_trained_model(x_test)\n",
        "\n",
        "new_preds = new_preds.cpu()\n",
        "print(new_preds == test_pred)\n",
        "plot_data(preds=new_preds)"
      ],
      "metadata": {
        "colab": {
          "base_uri": "https://localhost:8080/",
          "height": 768
        },
        "id": "QluylKHoTSUN",
        "outputId": "9d742d95-abd9-442f-9794-1c30e617abb0"
      },
      "execution_count": null,
      "outputs": [
        {
          "output_type": "stream",
          "name": "stdout",
          "text": [
            "tensor([[True],\n",
            "        [True],\n",
            "        [True],\n",
            "        [True],\n",
            "        [True],\n",
            "        [True],\n",
            "        [True],\n",
            "        [True],\n",
            "        [True],\n",
            "        [True],\n",
            "        [True],\n",
            "        [True],\n",
            "        [True],\n",
            "        [True],\n",
            "        [True],\n",
            "        [True],\n",
            "        [True],\n",
            "        [True],\n",
            "        [True],\n",
            "        [True]])\n"
          ]
        },
        {
          "output_type": "display_data",
          "data": {
            "text/plain": [
              "<Figure size 720x504 with 1 Axes>"
            ],
            "image/png": "[encoded data removed]"
          },
          "metadata": {
            "needs_background": "light"
          }
        }
      ]
    },
    {
      "cell_type": "code",
      "source": [],
      "metadata": {
        "id": "keq--89gUKUi"
      },
      "execution_count": null,
      "outputs": []
    }
  ]
}